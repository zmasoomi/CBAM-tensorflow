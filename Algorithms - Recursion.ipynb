{
  "cells": [
    {
      "cell_type": "markdown",
      "metadata": {
        "id": "view-in-github",
        "colab_type": "text"
      },
      "source": [
        "<a href=\"https://colab.research.google.com/github/zmasoomi/CBAM-tensorflow/blob/master/Algorithms%20-%20Recursion.ipynb\" target=\"_parent\"><img src=\"https://colab.research.google.com/assets/colab-badge.svg\" alt=\"Open In Colab\"/></a>"
      ]
    },
    {
      "cell_type": "markdown",
      "metadata": {
        "id": "Bj-Gi0QlUfyL"
      },
      "source": [
        "# Algorithms - Recursion\n",
        "\n",
        "## Exercise 1\n",
        "\n",
        "Although merge sort has a better Big-O than selection sort, selection sort can be faster for smaller inputs.\n",
        "\n",
        "Rewrite `merge_sort(A, min_size)` such that sub-arrays smaller than an input parameter `min_size` are sorted with our `selection_sort` from the lecture `algorithms intro`.\n",
        "\n",
        "Time the difference between pure merge sort and this new algorithm. Is it faster? Why or why not?"
      ]
    },
    {
      "cell_type": "code",
      "execution_count": null,
      "metadata": {
        "id": "RF8yrsRrZF-l"
      },
      "outputs": [],
      "source": [
        "import time\n",
        "import numpy as np"
      ]
    },
    {
      "cell_type": "code",
      "execution_count": null,
      "metadata": {
        "id": "KEBg1H4VWkHt"
      },
      "outputs": [],
      "source": [
        "def linear_search(arr):\n",
        "    \"\"\"\n",
        "    Find the index of the minimum element\n",
        "    AKA argsort\n",
        "    \"\"\"\n",
        "    start = time.time()\n",
        "    current_min = float('inf')\n",
        "    current_min_idx = 0\n",
        "    for i in range(len(arr)):\n",
        "        #print(current_min)\n",
        "        if arr[i] < current_min:\n",
        "            current_min = arr[i]\n",
        "            current_min_idx = i\n",
        "    return current_min_idx\n",
        "\n",
        "def selection_sort(arr):\n",
        "    \"\"\"Selection sort\"\"\"\n",
        "    n_sorted = 0 \n",
        "    while n_sorted < len(arr):\n",
        "        min_idx = linear_search(arr[n_sorted:]) + n_sorted\n",
        "        #print(min_idx)\n",
        "        #print(arr[n_sorted:])\n",
        "        to_swap = arr[n_sorted]\n",
        "        arr[n_sorted] = arr[min_idx]\n",
        "        arr[min_idx] = to_swap\n",
        "        n_sorted += 1\n",
        "    return arr"
      ]
    },
    {
      "cell_type": "code",
      "execution_count": null,
      "metadata": {
        "id": "L2kz_XBKZF-q",
        "outputId": "6d1013c0-8174-47bd-bade-1e7ac41744b8"
      },
      "outputs": [
        {
          "data": {
            "text/plain": [
              "[3, 4, 5, 22, 44.4, 66.6, 111, 777]"
            ]
          },
          "execution_count": 24,
          "metadata": {},
          "output_type": "execute_result"
        }
      ],
      "source": [
        "def merge(left, right):\n",
        "    res = []\n",
        "    #zip in together left and right parts\n",
        "    while left and right:\n",
        "        if left[0] < right[0]:\n",
        "            res.append(left[0]) #append to result\n",
        "            left.pop(0) #remove val we appended\n",
        "        else:\n",
        "            res.append(right[0])\n",
        "            right.pop(0)\n",
        "            \n",
        "    #Copy in remaining elements of left and right (if any)\n",
        "    for i in left:\n",
        "        res.append(i)\n",
        "    for i in right:\n",
        "        res.append(i)\n",
        "    return res\n",
        "\n",
        "def merge_sort(arr):\n",
        "    size = len(arr)\n",
        "    if size > 1:\n",
        "        m = size // 2\n",
        "        left = merge_sort(arr[:m])\n",
        "        right = merge_sort(arr[m:])\n",
        "        return merge(left,right)\n",
        "    else:\n",
        "        return arr\n",
        "    \n"
      ]
    },
    {
      "cell_type": "code",
      "execution_count": null,
      "metadata": {
        "id": "7N_3c_hqZF-u"
      },
      "outputs": [],
      "source": [
        "def modified_merge_sort(arr, min_size):\n",
        "    size = len(arr)\n",
        "    if size > min_size:\n",
        "        m = size // 2\n",
        "        left = merge_sort(arr[:m])\n",
        "        right = merge_sort(arr[m:])\n",
        "        return merge(left,right)\n",
        "    else:\n",
        "        selection_sort(arr)\n",
        "        "
      ]
    },
    {
      "cell_type": "code",
      "execution_count": null,
      "metadata": {
        "id": "G1PpRbIKZF-w",
        "outputId": "54c5af00-688d-44ab-cf01-ed74b5a2e559"
      },
      "outputs": [
        {
          "name": "stdout",
          "output_type": "stream",
          "text": [
            "968 ms ± 7.46 ms per loop (mean ± std. dev. of 7 runs, 1 loop each)\n",
            "18 ms ± 1.28 ms per loop (mean ± std. dev. of 7 runs, 100 loops each)\n",
            "18.2 ms ± 631 µs per loop (mean ± std. dev. of 7 runs, 100 loops each)\n"
          ]
        }
      ],
      "source": [
        "arr = list(np.random.randint(1,10000, 5000 ))\n",
        "%timeit selection_sort(arr)\n",
        "%timeit merge_sort(arr)\n",
        "%timeit modified_merge_sort(arr, 2500)  \n",
        "#if we increase the min_size, elapsed time will increase. \n",
        "#it would be noticed the combenation of both sorting types, more or less equals to merging sort.\n",
        "#the last point is about only selection_sort which has far difference in comparson with other algorithm mentioned above."
      ]
    },
    {
      "cell_type": "code",
      "execution_count": null,
      "metadata": {
        "id": "JgkO0DP-ZF-x",
        "outputId": "5628b784-5692-4bcc-857d-bfe554170ad1"
      },
      "outputs": [
        {
          "name": "stdout",
          "output_type": "stream",
          "text": [
            "11.5 µs ± 317 ns per loop (mean ± std. dev. of 7 runs, 100000 loops each)\n",
            "11.7 µs ± 178 ns per loop (mean ± std. dev. of 7 runs, 100000 loops each)\n",
            "3.09 ms ± 343 µs per loop (mean ± std. dev. of 7 runs, 100 loops each)\n"
          ]
        }
      ],
      "source": [
        "arr1 = [111,4,3,22,5,44.4,66.6,777]\n",
        "%timeit merge_sort(arr1)\n",
        "%timeit selection_sort(arr1)\n",
        "%timeit modified_merge_sort(arr, 3)"
      ]
    },
    {
      "cell_type": "markdown",
      "metadata": {
        "id": "_xlEp7VWWkLL"
      },
      "source": [
        "## Exercise 2\n",
        "\n",
        "Let $A[1...n]$ be an array of $n$ distinct numbers. If $i < j$ and $A[i] > A[j]$, then the pair $(i, j)$ is called an **inversion** of $A$. \n",
        "\n",
        "In other words an inversion is a pair of unsorted elements in an array.\n",
        "\n",
        "1. List the five inversions of $[2, 3, 8, 6, 1]$ \n",
        "2. Give an algorithm that determines the number of inversions in any permutation on $n$ elements.\n",
        "- Bonus points: make your algorithm to have $O(nlog_2(n))$ in worst-case time. (Hint: Modify merge sort.) \n",
        "\n"
      ]
    },
    {
      "cell_type": "code",
      "execution_count": null,
      "metadata": {
        "id": "pVN_gIzpZF-0",
        "outputId": "e3c280ae-0698-4f29-9aa6-8da72c64091b"
      },
      "outputs": [
        {
          "data": {
            "text/plain": [
              "' the arrays inverted:[(2, 3), (2, 8), (2, 6), (3, 8), (3, 6)],  number of inversion:5'"
            ]
          },
          "execution_count": 76,
          "metadata": {},
          "output_type": "execute_result"
        }
      ],
      "source": [
        "\n",
        "def inversion_number(arr):\n",
        "    inverted_arrays = []\n",
        "    for i in range(len(arr)-1):\n",
        "        for j in range(i, len(arr)):\n",
        "            if arr[i]<arr[j]:\n",
        "                a = (arr[i], arr[j])\n",
        "                inverted_arrays.append(a)\n",
        "    return f' the arrays inverted:{inverted_arrays},  number of inversion:{len(inverted_arrays)}'\n",
        "  \n",
        "\n",
        "\n",
        "B = [2,3,8,6,1]\n",
        "\n",
        "inversion_number(B)\n"
      ]
    },
    {
      "cell_type": "markdown",
      "metadata": {
        "id": "7DHNJtvOUkgo"
      },
      "source": [
        "## Exercise 3: Recursive sum\n",
        "\n",
        "Write a function that uses recursion to compute the sum of an array or list of numbers\n",
        "\n",
        "```\n",
        "recursive_sum([2, 4, 5, 6, 7])\n",
        "\n",
        "output: 24\n",
        "```"
      ]
    },
    {
      "cell_type": "code",
      "execution_count": null,
      "metadata": {
        "id": "ab0_Ewn-oTy5",
        "outputId": "73c8dd7d-faa6-4d76-f3ff-9495819e2b9d"
      },
      "outputs": [
        {
          "data": {
            "text/plain": [
              "[24]"
            ]
          },
          "execution_count": 7,
          "metadata": {},
          "output_type": "execute_result"
        }
      ],
      "source": [
        "# exercise 3\n",
        "def recursive_sum(arr):\n",
        "    if len(arr)==1:\n",
        "        return arr\n",
        "    if len(arr)!=1:\n",
        "        arr[1] += arr[0]\n",
        "        arr.pop(0)\n",
        "    return recursive_sum(arr)\n",
        "    \n",
        "recursive_sum([2, 4, 5, 6, 7])\n",
        "        \n",
        "    "
      ]
    },
    {
      "cell_type": "markdown",
      "metadata": {
        "id": "LSFr3qLboTzE"
      },
      "source": [
        "## Exercise 4: Recursive denominators\n",
        "\n",
        "Write a Python program that uses recursion to find the greatest common divisor (gcd) of two integers.\n",
        "\n",
        "```\n",
        "recursive_gcd(12,14)\n",
        "\n",
        "output : 2\n",
        "```"
      ]
    },
    {
      "cell_type": "code",
      "execution_count": null,
      "metadata": {
        "colab": {
          "base_uri": "https://localhost:8080/"
        },
        "id": "YoYokrfHCXt9",
        "outputId": "91d6edeb-4512-4ea7-a9e9-5ad61d9a215d"
      },
      "outputs": [
        {
          "data": {
            "text/plain": [
              "2"
            ]
          },
          "execution_count": 50,
          "metadata": {},
          "output_type": "execute_result"
        }
      ],
      "source": [
        "# exercise 4\n",
        "def recursive_gcd(a, b):\n",
        "    if a==1 or a==0:\n",
        "        return b\n",
        "    elif b==1 or b==0:\n",
        "        return a\n",
        "    elif a<b:\n",
        "        return recursive_gcd(a, b%a)\n",
        "    else:\n",
        "        return recursive_gcd(b, a%b)\n",
        "\n",
        "recursive_gcd(12, 14)"
      ]
    },
    {
      "cell_type": "markdown",
      "metadata": {
        "id": "Qy5JQQBPoTzP"
      },
      "source": [
        "## Exercise 5: Recursive power function\n",
        "\n",
        "Write a recursive function to calculate the value of 'a' to the power 'b'. \n",
        "\n",
        "```\n",
        "recursive_pow(3, 4)\n",
        "\n",
        "output: 81\n",
        "```"
      ]
    },
    {
      "cell_type": "code",
      "execution_count": null,
      "metadata": {
        "id": "ZSL9bWWJoTzS",
        "outputId": "76ba706e-4027-4c84-8276-192b0bdd7d80"
      },
      "outputs": [
        {
          "data": {
            "text/plain": [
              "81"
            ]
          },
          "execution_count": 2,
          "metadata": {},
          "output_type": "execute_result"
        }
      ],
      "source": [
        "# exercise 5\n",
        "\n",
        "def recursive_pow(a, b):\n",
        "    if b==0:\n",
        "        return 1\n",
        "    if b==1:\n",
        "        return a\n",
        "    else:\n",
        "        return  a * recursive_pow(a, b-1)\n",
        "\n",
        "recursive_pow(3, 4)"
      ]
    },
    {
      "cell_type": "code",
      "execution_count": null,
      "metadata": {
        "id": "wHB50OoAZF-_"
      },
      "outputs": [],
      "source": [
        ""
      ]
    }
  ],
  "metadata": {
    "colab": {
      "collapsed_sections": [],
      "name": "wkshop_1_min.ipynb",
      "provenance": [],
      "include_colab_link": true
    },
    "kernelspec": {
      "display_name": "Python 3",
      "language": "python",
      "name": "python3"
    },
    "language_info": {
      "codemirror_mode": {
        "name": "ipython",
        "version": 3
      },
      "file_extension": ".py",
      "mimetype": "text/x-python",
      "name": "python",
      "nbconvert_exporter": "python",
      "pygments_lexer": "ipython3",
      "version": "3.8.8"
    }
  },
  "nbformat": 4,
  "nbformat_minor": 0
}