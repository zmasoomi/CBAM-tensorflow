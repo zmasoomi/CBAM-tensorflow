{
  "cells": [
    {
      "cell_type": "markdown",
      "metadata": {
        "id": "view-in-github",
        "colab_type": "text"
      },
      "source": [
        "<a href=\"https://colab.research.google.com/github/zmasoomi/CBAM-tensorflow/blob/master/algorithms.ipynb\" target=\"_parent\"><img src=\"https://colab.research.google.com/assets/colab-badge.svg\" alt=\"Open In Colab\"/></a>"
      ]
    },
    {
      "cell_type": "markdown",
      "metadata": {
        "id": "S-Xd3LLIcLBw"
      },
      "source": [
        "# Algorithms - Python Classes\n"
      ]
    },
    {
      "cell_type": "markdown",
      "metadata": {
        "id": "N4PAAuZUYut6"
      },
      "source": [
        "# 1. Rational Number\n",
        "\n",
        "Make a class that represents a [Rational Number](https://en.wikipedia.org/wiki/Rational_number). The rational number takes as input two integers and represents them as a number which is a fraction.\n",
        "\n",
        "You will need:\n",
        "\n",
        "- A creation rountine taking in two integers and initializing the Rational Number\n",
        "\n",
        "- A functionality where printing the rational number prints it as a clean string in the format `\"a / b\"`\n",
        "\n",
        "- An addition/substraction/multiplication/division method defined on other rational numbers\n",
        "\n",
        "    - These only need to be defined on other rational numbers!\n",
        "\n",
        "    - The result needs to be another `RationalNumber` object\n",
        "\n",
        "```\n",
        ">>> a = RationalNumber(1, 2)\n",
        ">>> b = RationalNumber(1, 3)\n",
        ">>> a\n",
        "1 / 2\n",
        ">>> a + b\n",
        "5/6\n",
        ">>> a - b\n",
        "1/6\n",
        ">>> a * b\n",
        "1/6\n",
        ">>> a/b\n",
        "3/2\n",
        "```"
      ]
    },
    {
      "cell_type": "code",
      "execution_count": null,
      "metadata": {
        "id": "fOhl_VL-Yut9",
        "outputId": "a5d2c220-1b57-4c1b-8ae3-6c0f24b2efde"
      },
      "outputs": [
        {
          "name": "stdout",
          "output_type": "stream",
          "text": [
            "1/2 1/3\n",
            "a+b: 5/6\n",
            "a-b: 1/6\n",
            "a*b: 1/6\n",
            "a/b: 3/2\n"
          ]
        }
      ],
      "source": [
        "# 1\n",
        "class RationalNumber: #in camelcase name\n",
        "    \"\"\"\n",
        "    defining a class returning the string of a fraction of two inputs\n",
        "    with class functions of adding, subtraction, multiplicartion, devision\n",
        "    \"\"\"\n",
        "    def __init__(self, first_integer, second_integer):#defining the attributes of object\n",
        "        self.numerator = first_integer  #the lowest amount of equitien\n",
        "        self.denominator = second_integer\n",
        "    def __repr__(self):#returns the object representation.\n",
        "       \n",
        "        return f'{self.numerator}/{self.denominator}'\n",
        "    def __add__(self, obj2):#sum of two rational numbers\n",
        "        if self!=self.denominator: \n",
        "            numerator = self.numerator * obj2.denominator  + self.denominator * obj2.numerator\n",
        "            denominator = self.denominator * obj2.denominator\n",
        "            return RationalNumber(numerator, denominator)\n",
        "        else:\n",
        "            numerator = self.numerator + obj2.denominator\n",
        "            return RationalNumber(numerator, obj2.denominator)\n",
        "    \n",
        "    def __sub__(self, obj2):  #subtraction of two rational numbers\n",
        "        numerator = self.numerator * obj2.denominator  - self.denominator * obj2.numerator\n",
        "        denominator = self.denominator * obj2.denominator\n",
        "        if numerator==0:\n",
        "            return 0\n",
        "        else:\n",
        "            return RationalNumber(numerator, denominator)\n",
        "        \n",
        "    \n",
        "    def __mul__(self, obj2):#multiplication of two rational numbers\n",
        "        if self.numerator==0:\n",
        "            return 0\n",
        "        else:\n",
        "            numerator = self.numerator * obj2.numerator\n",
        "            denominator = self.denominator *  obj2.denominator\n",
        "            return RationalNumber(numerator, denominator)\n",
        "    \n",
        "    def __truediv__(self, obj2):#devision of two rational numbers\n",
        "        if obj2==0:\n",
        "            return f'infinit division'\n",
        "        elif self==obj2:\n",
        "            return 1\n",
        "        else:\n",
        "            numerator = self.numerator * obj2.denominator\n",
        "            denominator = self.denominator * obj2.numerator\n",
        "            return  RationalNumber(numerator, denominator)\n",
        "    \n",
        "    \n",
        " \n",
        "\n",
        "a=RationalNumber(1, 2)\n",
        "b=RationalNumber(1, 3)\n",
        "print(a, b)\n",
        "print(f'a+b: {a+b}')\n",
        "print(f'a-b: {a-b}')\n",
        "print(f'a*b: {a*b}')\n",
        "print(f'a/b: {a/b}')"
      ]
    },
    {
      "cell_type": "markdown",
      "metadata": {
        "id": "U-Adr8UyBJMd"
      },
      "source": [
        "# 2. Deck of Cards\n",
        "\n",
        "Create a deck of cards class. \n",
        "\n",
        "Internally, the deck of cards should use another class, a card class. \n",
        "\n",
        "Your requirements are:\n",
        "\n",
        "- The Deck class should have a deal method to deal a single card from the deck\n",
        "- After a card is dealt, it is removed from the deck.\n",
        "    - If no cards remain in the deck and we try to deal, it should raise an exception\n",
        "- There should be a shuffle method which makes sure the deck of cards has all 52 cards and then rearranges them randomly.\n",
        "    - If there are fewer than 52 cards, an exception should be raised\n",
        "- The Card class should have a suit (Hearts, Diamonds, Clubs, Spades) and a value (A,2,3,4,5,6,7,8,9,10,J,Q,K)\n",
        "\n",
        "```\n",
        ">>> c = Card(suit='Hearts', value='K')\n",
        ">>> c\n",
        "\"K of Hearts\"\n",
        ">>> d = Deck()\n",
        ">>> d\n",
        "\"Cards remaining in deck: 52\"\n",
        "\n",
        "# Deck is not shuffled -- deals cards consecutively:\n",
        "\n",
        ">>> d.deal()\n",
        "\"K of Spades\"\n",
        ">>> d.deal()\n",
        "\"Q of Spades\"\n",
        ">>> d.deal()\n",
        "\"J of Spades\"\n",
        ">>> d\n",
        "\"Cards remaining in deck: 49\"\n",
        "\n",
        "# We dealt 3 cards, 49 remain\n",
        "# Can't shuffle deck that's not full:\n",
        "\n",
        ">>> d.shuffle()\n",
        "ValueError: Only full decks can be shuffled\n",
        "\n",
        "# You can shuffle full decks \n",
        ">>> d = Deck()\n",
        ">>> d.shuffle()\n",
        "\n",
        "# Now it deals random cards\n",
        "\n",
        ">>> d.deal()\n",
        "\"2 of Hearts\"\n",
        "\n",
        "```"
      ]
    },
    {
      "cell_type": "code",
      "execution_count": null,
      "metadata": {
        "id": "RssfJVgsYuuG"
      },
      "outputs": [],
      "source": [
        "import numpy as np\n",
        "from random import random\n",
        "from itertools import product"
      ]
    },
    {
      "cell_type": "code",
      "execution_count": null,
      "metadata": {
        "id": "180_1j3AYuuH"
      },
      "outputs": [],
      "source": [
        "suit = ['Hearts', 'Diamonds', 'Clubs', 'Spades']\n",
        "value = ['A','J','Q','K', 1, 2, 3, 4, 5, 6, 7, 8, 9 ]\n"
      ]
    },
    {
      "cell_type": "code",
      "execution_count": null,
      "metadata": {
        "id": "VALTQe-BYuuI",
        "outputId": "cfafac23-a4ab-4935-c41d-46e5b12cfcd9"
      },
      "outputs": [
        {
          "data": {
            "text/plain": [
              "\"2 of Hearts\""
            ]
          },
          "execution_count": 3,
          "metadata": {},
          "output_type": "execute_result"
        }
      ],
      "source": [
        "class Card:\n",
        "\n",
        "    def __init__(self, suit, value):# a class with two inputs\n",
        "        self.suit = suit\n",
        "        self.value = value\n",
        "                                                                              \n",
        "    def __repr__(self):\n",
        "         return f'\"{self.value} of {self.suit}\"' #printable representation of the object passed to it \n",
        " \n",
        "c = Card('Hearts', 2)\n",
        "c"
      ]
    },
    {
      "cell_type": "code",
      "execution_count": null,
      "metadata": {
        "id": "MGl-Jwl-XwCn"
      },
      "outputs": [],
      "source": [
        "# 2 \n",
        "\n",
        "class Deck():\n",
        "    d = 0  #class attribute, to count the number of function execution\n",
        "    def __init__(self):\n",
        "        pass\n",
        "    \n",
        "    def deal(self):\n",
        "         #produce the object from \"Card's class\" by random choice from suit and its value\n",
        "        c = Card(np.random.choice(['Hearts', 'Diamonds', 'Clubs', 'Spades']),\n",
        "                 np.random.choice(['A','J','Q','K', 1, 2, 3, 4, 5, 6, 7, 8, 9 ])) \n",
        "        Deck.d+=1 #due to class attribute, just called by its class name\n",
        "        \n",
        "        return repr(c),f'We dealt {Deck.d} cards, {52 - Deck.d} remaind in deck.'\n",
        "\n",
        "    def shuffle(self):\n",
        "        if Deck.d==0:  #denoting the deck in not compelte to be shuffled\n",
        "                #print(Deck.d)\n",
        "                print('You can shuffle full decks.')\n",
        "                decks = list(product(['Hearts', 'Diamonds', 'Clubs', 'Spades'],['A','J','Q','K', 1, 2, 3, 4, 5, 6, 7, 8, 9 ]))\n",
        "                np.random.shuffle(decks)  #shuffling from the list(deck)      \n",
        "                return f'Now it deals random cards'\n",
        "        else:  #raise error for  not having complete deck because of previous deals\n",
        "                raise ValueError('Only full decks can be shuffled.')\n",
        "              \n",
        "    \n",
        "    \n"
      ]
    },
    {
      "cell_type": "code",
      "execution_count": null,
      "metadata": {
        "id": "FlhQjYIlYuuK",
        "outputId": "2b70d7ef-0c3c-4176-dbe1-4e7959a854b8"
      },
      "outputs": [
        {
          "name": "stdout",
          "output_type": "stream",
          "text": [
            "You can shuffle full decks.\n"
          ]
        },
        {
          "data": {
            "text/plain": [
              "'Now it deals random cards'"
            ]
          },
          "execution_count": 7,
          "metadata": {},
          "output_type": "execute_result"
        }
      ],
      "source": [
        "d = Deck()\n",
        "d.shuffle()"
      ]
    },
    {
      "cell_type": "code",
      "execution_count": null,
      "metadata": {
        "id": "Y3pV0HK1YuuM",
        "outputId": "b17408dd-e513-4917-e9d9-f6affb67fda7"
      },
      "outputs": [
        {
          "name": "stdout",
          "output_type": "stream",
          "text": [
            "('\"Q of Hearts\"', 'We dealt 1 cards, 51 remaind in deck.')\n",
            "('\"3 of Hearts\"', 'We dealt 2 cards, 50 remaind in deck.')\n",
            "('\"8 of Hearts\"', 'We dealt 3 cards, 49 remaind in deck.')\n"
          ]
        }
      ],
      "source": [
        "print(d.deal())\n",
        "print(d.deal())\n",
        "print(d.deal())\n"
      ]
    },
    {
      "cell_type": "code",
      "execution_count": null,
      "metadata": {
        "id": "gHJyfq3KYuuN",
        "outputId": "4fbd1890-7e97-499a-9787-661a61dc74af"
      },
      "outputs": [
        {
          "ename": "ValueError",
          "evalue": "Only full decks can be shuffled.",
          "output_type": "error",
          "traceback": [
            "\u001b[1;31m---------------------------------------------------------------------------\u001b[0m",
            "\u001b[1;31mValueError\u001b[0m                                Traceback (most recent call last)",
            "\u001b[1;32m<ipython-input-9-d6178d611d3d>\u001b[0m in \u001b[0;36m<module>\u001b[1;34m\u001b[0m\n\u001b[1;32m----> 1\u001b[1;33m \u001b[0md\u001b[0m\u001b[1;33m.\u001b[0m\u001b[0mshuffle\u001b[0m\u001b[1;33m(\u001b[0m\u001b[1;33m)\u001b[0m\u001b[1;33m\u001b[0m\u001b[1;33m\u001b[0m\u001b[0m\n\u001b[0m",
            "\u001b[1;32m<ipython-input-5-ba0f4c0212b9>\u001b[0m in \u001b[0;36mshuffle\u001b[1;34m(self)\u001b[0m\n\u001b[0;32m     22\u001b[0m                 \u001b[1;32mreturn\u001b[0m \u001b[1;34mf'Now it deals random cards'\u001b[0m\u001b[1;33m\u001b[0m\u001b[1;33m\u001b[0m\u001b[0m\n\u001b[0;32m     23\u001b[0m         \u001b[1;32melse\u001b[0m\u001b[1;33m:\u001b[0m  \u001b[1;31m#raise error for  not having complete deck because of previous deals\u001b[0m\u001b[1;33m\u001b[0m\u001b[1;33m\u001b[0m\u001b[0m\n\u001b[1;32m---> 24\u001b[1;33m                 \u001b[1;32mraise\u001b[0m \u001b[0mValueError\u001b[0m\u001b[1;33m(\u001b[0m\u001b[1;34m'Only full decks can be shuffled.'\u001b[0m\u001b[1;33m)\u001b[0m\u001b[1;33m\u001b[0m\u001b[1;33m\u001b[0m\u001b[0m\n\u001b[0m\u001b[0;32m     25\u001b[0m \u001b[1;33m\u001b[0m\u001b[0m\n\u001b[0;32m     26\u001b[0m \u001b[1;33m\u001b[0m\u001b[0m\n",
            "\u001b[1;31mValueError\u001b[0m: Only full decks can be shuffled."
          ]
        }
      ],
      "source": [
        "d.shuffle()\n"
      ]
    },
    {
      "cell_type": "markdown",
      "metadata": {
        "id": "jpYXiIbhYuuO"
      },
      "source": [
        " # 3. Reverse a Stack\n",
        " \n",
        " Write a method\n",
        "to reverse the elements in a stack using only the methods available in Stack class."
      ]
    },
    {
      "cell_type": "code",
      "execution_count": null,
      "metadata": {
        "id": "_I3dCrpdYuuP"
      },
      "outputs": [],
      "source": [
        "#3\n",
        "class Stack: \n",
        "    def __init__(self): \n",
        "        self.elements = [] \n",
        "    \n",
        "    def push(self, data): \n",
        "        self.elements.append(data) \n",
        "        return data \n",
        "    \n",
        "    def pop(self): \n",
        "        return self.elements.pop() \n",
        "        \n",
        "    def peek(self): \n",
        "        return self.elements[-1] \n",
        "        \n",
        "    def is_empty(self): \n",
        "        return len(self.elements) == 0\n",
        "    \n",
        "    def info(self):\n",
        "        return self.elements\n",
        "    \n",
        "    def reverse(self):\n",
        "        return self.elements[::-1]\n",
        "    "
      ]
    },
    {
      "cell_type": "code",
      "execution_count": null,
      "metadata": {
        "id": "VgNb5ABXYuuQ",
        "outputId": "2f7cf018-548e-4ff5-dc8a-987908c544a3"
      },
      "outputs": [
        {
          "data": {
            "text/plain": [
              "['b', 2, 'a', 1]"
            ]
          },
          "execution_count": 11,
          "metadata": {},
          "output_type": "execute_result"
        }
      ],
      "source": [
        "s=Stack()\n",
        "s.push(1)\n",
        "s.push('a')\n",
        "s.push(2)\n",
        "s.push('b')\n",
        "s.elements\n",
        "s.reverse()\n"
      ]
    },
    {
      "cell_type": "code",
      "execution_count": null,
      "metadata": {
        "id": "7lPFkc_WYuuR"
      },
      "outputs": [],
      "source": [
        ""
      ]
    }
  ],
  "metadata": {
    "colab": {
      "collapsed_sections": [],
      "name": "wkshop_1_min.ipynb",
      "provenance": [],
      "include_colab_link": true
    },
    "kernelspec": {
      "display_name": "Python 3",
      "language": "python",
      "name": "python3"
    },
    "language_info": {
      "codemirror_mode": {
        "name": "ipython",
        "version": 3
      },
      "file_extension": ".py",
      "mimetype": "text/x-python",
      "name": "python",
      "nbconvert_exporter": "python",
      "pygments_lexer": "ipython3",
      "version": "3.8.8"
    }
  },
  "nbformat": 4,
  "nbformat_minor": 0
}