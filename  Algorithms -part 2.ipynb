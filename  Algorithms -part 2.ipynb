{
  "cells": [
    {
      "cell_type": "markdown",
      "metadata": {
        "id": "view-in-github",
        "colab_type": "text"
      },
      "source": [
        "<a href=\"https://colab.research.google.com/github/zmasoomi/CBAM-tensorflow/blob/master/%20Algorithms%20-part%202.ipynb\" target=\"_parent\"><img src=\"https://colab.research.google.com/assets/colab-badge.svg\" alt=\"Open In Colab\"/></a>"
      ]
    },
    {
      "cell_type": "markdown",
      "metadata": {
        "id": "JhHe67V18V3_"
      },
      "source": [
        "\n",
        "# Algorithms - Subset - Sum Problem\n",
        "\n",
        "The *subset-sum problem*:  given a set of integers $S = \\{s_1, s_2, \\ldots, s_n\\}$ and a target number $T$, find a subset of $S$ which adds up exactly to $T$.  \n",
        "\n",
        "For example, if $S = \\{1,2,5, 9, 10\\}$, there is a subset that adds up to $T = 22$, but not to $T = 23$.  Complete the following tasks related to this problem."
      ]
    },
    {
      "cell_type": "markdown",
      "metadata": {
        "id": "7XN-ycJK8V4A"
      },
      "source": [
        "## Exercise 1 \n",
        "\n",
        "Find a subset of $S = \\{1,2,5, 9, 10\\}$ with sum $T = 22$.  Explain the process (algorithm) you used mentally to find the subset.  Then apply the same process in an attempt to find a subset with sum $T = 23$.  \n",
        "\n",
        "How do you know there is no such subset?"
      ]
    },
    {
      "cell_type": "markdown",
      "metadata": {
        "id": "WdqP8Q9eZTcw"
      },
      "source": [
        "### exercise 1 (answer)\n",
        "    1) the target substracted from the first element(could be any element as a start) in the given list \n",
        "    \n",
        "    2) the step(1) will be repeated for the next elements remaind from previous step and the answer of step(1)\n",
        "    cosidered as new target, \n",
        "    \n",
        "    3)in this step, order is not important because we have to consider any element separtely\n",
        "    \n",
        "    4) in step(2), if the answer of the subtraction is more than the rest of the every single elment. \n",
        "    \n",
        "    5) still we do not have the original target(step1 + step2) \n",
        "    so it means the list has not the elements to add up to the target.\n",
        "    \n",
        "    4) otherwise, we will come back to step2"
      ]
    },
    {
      "cell_type": "markdown",
      "metadata": {
        "id": "iwQBcPqIZTcx"
      },
      "source": [
        "How do you know there is no such subset?\n",
        "\n",
        "    >>>there is no output for this target.\n",
        "    23-1=22, \n",
        "    >>>sum function on list of permutatin of  the rest of elements is less than 22 so we continue:\n",
        "    22-2=20\n",
        "    >>>sum function on list of permutatin of  the rest of elements is less than 22 so we continue:\n",
        "    20-5=15\n",
        "    >>>None : because:\n",
        "    9+10=19 >15 so we don't have out put\n",
        "\n"
      ]
    },
    {
      "cell_type": "code",
      "execution_count": null,
      "metadata": {
        "id": "WKHisLqwZTcy"
      },
      "outputs": [],
      "source": [
        ""
      ]
    },
    {
      "cell_type": "markdown",
      "metadata": {
        "collapsed": true,
        "id": "u-amEAHY8V4B"
      },
      "source": [
        "## Exercise 2\n",
        "\n",
        "Consider the following possible algorithm for the subset-sum problem, written in pseudocode:\n",
        "\n",
        "```python\n",
        "subset_sum(S[], T):\n",
        "    K = empty\n",
        "    for each i < size(S)\n",
        "        if sum(K) + S[i] <= T, put S[i] into K\n",
        "    if sum(K) = T, return K, else return False.\n",
        "```\n",
        "\n",
        "1. Describe what this algorithm does in English.  \n",
        "2. Implement this algorithm in Python and run it on the $S$ and $T$ above.\n",
        "3. Prove that this algorithm is NOT correct.  That is, find a counterexample: a set $S$ and number $T$ for which there is a solution, but not one that the algorithm finds.\n",
        "4. Verify that this particular $S$ and $T$ does not give the right output when entered to your Python program."
      ]
    },
    {
      "cell_type": "markdown",
      "metadata": {
        "id": "hXNmVEkQZTcz"
      },
      "source": [
        "### 2.1 (answer)\n",
        "    it is the Brute Force algorithm.\n",
        "    firstly, make a loop in the length of given array.\n",
        "    then the sum of the item in array and items in k which has been 0 at the begining.\n",
        "    if the yield sum equals the target we add it in the list of k denotng what items gives us the target\n",
        "    otherwise, algorithm continue.\n"
      ]
    },
    {
      "cell_type": "code",
      "execution_count": null,
      "metadata": {
        "id": "VU6JpUP_ZTc0"
      },
      "outputs": [],
      "source": [
        "### 2.2 (answer)\n",
        "def two_sum(S, T):\n",
        "    k = []\n",
        "    for i in range(len(S)):\n",
        "        t=0\n",
        "        for j in range(len(k)):\n",
        "            t += k[j]\n",
        "            t = t + S[i]\n",
        "            if  t<= T:\n",
        "                k.append(S[i])\n",
        "   \n",
        "    if k==T:\n",
        "        return k\n",
        "    else:\n",
        "        return False"
      ]
    },
    {
      "cell_type": "code",
      "execution_count": null,
      "metadata": {
        "id": "rH1-viRKZTc1",
        "outputId": "067abd4b-022f-4e01-a63d-57be2f34b288"
      },
      "outputs": [
        {
          "data": {
            "text/plain": [
              "False"
            ]
          },
          "execution_count": 58,
          "metadata": {},
          "output_type": "execute_result"
        }
      ],
      "source": [
        "### 2.3 (answer)\n",
        "two_sum([1,2,5,9,10] , 22)\n",
        "#this algorithm doesn't work well because it is appending to k respectively without scaning all possible subsets \n",
        "#so it missed some items to sum, \n"
      ]
    },
    {
      "cell_type": "code",
      "execution_count": null,
      "metadata": {
        "id": "uQo5wDGXZTc2",
        "outputId": "4ea67b69-4449-4929-e80b-1e596fc4ad3e"
      },
      "outputs": [
        {
          "data": {
            "text/plain": [
              "False"
            ]
          },
          "execution_count": 64,
          "metadata": {},
          "output_type": "execute_result"
        }
      ],
      "source": [
        "### 2.4 (answer)\n",
        "two_sum([1,2,5,9,10] , 22)"
      ]
    },
    {
      "cell_type": "markdown",
      "metadata": {
        "id": "ELM9eyRP8V4D"
      },
      "source": [
        "## Exercise 3 \n",
        "\n",
        "Another try: What if you put the elements in the subset from largest to smallest?  Check that this too is not a correct algorithm."
      ]
    },
    {
      "cell_type": "code",
      "execution_count": null,
      "metadata": {
        "id": "lWZVOfi58V4E",
        "outputId": "45cc12c3-f3d6-4406-c0c0-747f206af75f"
      },
      "outputs": [
        {
          "data": {
            "text/plain": [
              "False"
            ]
          },
          "execution_count": 63,
          "metadata": {},
          "output_type": "execute_result"
        }
      ],
      "source": [
        "### exercise 3\n",
        "two_sum([10,9,5,2,1], 22)      "
      ]
    },
    {
      "cell_type": "markdown",
      "metadata": {
        "id": "KQdqQykN8V4E"
      },
      "source": [
        "## Exercise 4\n",
        "\n",
        "Describe a correct algorithm for the subset-sum problem, both in English and in pseudocode.  Then implement the algorithm in Python.  Explain how you know your algorithm is correct (even if it might not be efficient)."
      ]
    },
    {
      "cell_type": "markdown",
      "metadata": {
        "id": "i00PKLrb8V4F"
      },
      "source": [
        "### exercise 4 (algorithm --English and pseudocode)\n",
        "\n",
        "-\n"
      ]
    },
    {
      "cell_type": "code",
      "execution_count": null,
      "metadata": {
        "id": "2az3gKR1ZTc4"
      },
      "outputs": [],
      "source": [
        "from itertools import combinations"
      ]
    },
    {
      "cell_type": "markdown",
      "metadata": {
        "id": "tV4M1Iw8ZTc5"
      },
      "source": [
        "#pseudocode\n",
        "def sub_sum(target, arr, n):\n",
        "     condition on n: = len(arr)\n",
        "        list of combinations of arr with len of n\n",
        "        for loop on above list\n",
        "            #print(arr)\n",
        "            condithion for equality between sum(arr) and target:\n",
        "                put arr in k\n",
        "            otherwise redo the : sub_sum(target, arr, n-1)\n",
        "        \n"
      ]
    },
    {
      "cell_type": "code",
      "execution_count": null,
      "metadata": {
        "id": "POrJTDZKZTc5",
        "outputId": "b6ee0ba0-e4f9-4fb4-9e5f-d6cfe0aef542"
      },
      "outputs": [
        {
          "data": {
            "text/plain": [
              "[(10, 9, 1, 2)]"
            ]
          },
          "execution_count": 357,
          "metadata": {},
          "output_type": "execute_result"
        }
      ],
      "source": [
        "#Python code ex4\n",
        "\n",
        "k = []\n",
        "def sub_sum(target, arr, n):# returns sum of sub-array of first list which is equal the taget\n",
        "    while len(arr)>1:# for one item just there is one answer\n",
        "        n = len(arr)\n",
        "        combi_arr = list(combinations(arr, n-1))#gives the different permutation of the given list without duplication\n",
        "        for arr in combi_arr:#iterate inside the yield above list\n",
        "            #print(arr)\n",
        "            if sum(arr)==target:\n",
        "                k.append(arr) #collect the correct array  \n",
        "         #if there is no result we start again with new combination with new length\n",
        "    return k\n",
        "\n",
        "arr = [10,9,1,5, 2]\n",
        "target = 22\n",
        "sub_sum(target, arr, n)\n"
      ]
    },
    {
      "cell_type": "markdown",
      "metadata": {
        "collapsed": true,
        "id": "fl51IaPm8V4G"
      },
      "source": [
        "## Exercise 5: Generating correct change\n",
        "\n",
        "Now, we will be making change using the fewest coins. \n",
        "\n",
        "Suppose you are a programmer for a vending machine manufacturer. Your company wants to streamline effort by giving out the fewest possible coins in change for each transaction. Suppose a customer puts in a dollar bill and purchases an item for 37 cents. What is the smallest number of coins you can use to make change? The answer is six coins: two quarters, one dime, and three pennies. \n",
        "\n",
        "How did we arrive at the answer of six coins? We start with the largest coin in our arsenal (a quarter) and use as many of those as possible, then we go to the next lowest coin value and use as many of those as possible. This is the greedy algorithm for change-making.\n",
        "\n",
        "**Question:** Write the greedy algorithm for change making.\n",
        "\n",
        "The input is the amount of change to generate (in pennies) and a list of coin sizes (in pennies)\n",
        "\n",
        "The output is the minimum number of coins to gener\n",
        "\n",
        "```\n",
        "# buys with 1 dollar for 37 pennies\n",
        "# Second argument says we can give quarters, dimes, nickels and pennies\n",
        "make_change(100 - 37, [25, 10, 5, 1])\n",
        "\n",
        "# 2 quarters, one dime, and three pennies\n",
        "output --> 6 # Output would be equivalent to the choices [2, 1, 0, 3]\n",
        "```"
      ]
    },
    {
      "cell_type": "code",
      "execution_count": null,
      "metadata": {
        "id": "pnFl8-g28V4G",
        "outputId": "c79eaeab-2b16-466e-f427-e2deba19dc92"
      },
      "outputs": [
        {
          "name": "stdout",
          "output_type": "stream",
          "text": [
            "0.63\n"
          ]
        },
        {
          "data": {
            "text/plain": [
              "{0.25: 2, 0.1: 1, 0.05: 0, 0.01: 2}"
            ]
          },
          "execution_count": 417,
          "metadata": {},
          "output_type": "execute_result"
        }
      ],
      "source": [
        "# exercise 5\n",
        "#coins = [0.01,.05, 0.1, .25]\n",
        "#names = ['penny', 'nickle', 'dim', 'quarter']\n",
        "def vending_machine(price, paid, coins):\n",
        "    back = 0\n",
        "    d ={} # a dictionary to denote final result\n",
        "    if paid>price:\n",
        "        s = (paid - price)/100\n",
        "        print(s)\n",
        "        for i in range(len(coins),0,-1): # reversed the coins list to find the minimum higher coin\n",
        "            j = 1\n",
        "            while s>coins[i-1]: # while the difference between price and coin is higher than price , loop will be continued\n",
        "                s = s - coins[i-1]\n",
        "                j += 1\n",
        "            d[coins[i-1]] = j-1 # returns the coin and its number\n",
        "    return d\n",
        "                                                  \n",
        "vending_machine(37, 100, [0.01,.05, 0.1, .25])            \n",
        " "
      ]
    },
    {
      "cell_type": "code",
      "execution_count": null,
      "metadata": {
        "id": "hVibYGi9ZTc6"
      },
      "outputs": [],
      "source": [
        ""
      ]
    },
    {
      "cell_type": "code",
      "execution_count": null,
      "metadata": {
        "id": "gGUHm4xvZTc7"
      },
      "outputs": [],
      "source": [
        ""
      ]
    }
  ],
  "metadata": {
    "colab": {
      "name": "wkshop_1_min.ipynb",
      "provenance": [],
      "include_colab_link": true
    },
    "kernelspec": {
      "display_name": "Python 3",
      "language": "python",
      "name": "python3"
    },
    "language_info": {
      "codemirror_mode": {
        "name": "ipython",
        "version": 3
      },
      "file_extension": ".py",
      "mimetype": "text/x-python",
      "name": "python",
      "nbconvert_exporter": "python",
      "pygments_lexer": "ipython3",
      "version": "3.8.8"
    }
  },
  "nbformat": 4,
  "nbformat_minor": 0
}